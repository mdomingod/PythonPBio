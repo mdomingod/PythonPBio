{
 "cells": [
  {
   "cell_type": "code",
   "execution_count": null,
   "metadata": {},
   "outputs": [],
   "source": []
  },
  {
   "cell_type": "markdown",
   "metadata": {},
   "source": [
    "### Exercici Entrenament 1\n",
    "\n",
    "Afegeix una línia de codi sota cada comentari per a implementar l'algorisme que calcularà la distáncia de l'enllaç peptidic (δ(C-N) ≈ 1.32Å) entre dos àtoms:\n",
    "\n",
    "(Actualitza la solució amb tuplas, bucles y funcions)\n",
    "\n"
   ]
  },
  {
   "cell_type": "code",
   "execution_count": 6,
   "metadata": {},
   "outputs": [
    {
     "name": "stdout",
     "output_type": "stream",
     "text": [
      "1.3242488436845987\n"
     ]
    }
   ],
   "source": [
    "import math\n",
    "\n",
    "# Definim les coordenades dels atomos com a punts 3D mitjançant tuplas\n",
    "carboni = (26.100, 29.253, 5.202)\n",
    "nitrogen = (26.849, 29.656, 6.217)\n",
    "\n",
    "# Definim una funció que calculi la distancia entre dos punts\n",
    "def distància(carboni, nitrogen):\n",
    "    d = math.sqrt((carboni[0]-nitrogen[0])**2 + (carboni[1]-nitrogen[1])**2 + (carboni[2]-nitrogen[2])**2)\n",
    "    \n",
    "\n",
    "# A completar\n",
    "    return d\n",
    "# Apliquem la funció distancia als dos atomos\n",
    "print(distància(carboni, nitrogen))"
   ]
  },
  {
   "cell_type": "code",
   "execution_count": 7,
   "metadata": {},
   "outputs": [
    {
     "data": {
      "text/plain": [
       "26.1"
      ]
     },
     "execution_count": 7,
     "metadata": {},
     "output_type": "execute_result"
    }
   ],
   "source": [
    "carboni[0]"
   ]
  },
  {
   "cell_type": "markdown",
   "metadata": {},
   "source": [
    "### Exercici entrenament 2\n",
    "Per què el següent codi no imprimeix tots els elements de la llista? Fa els canvis necessaris perquè ho faci"
   ]
  },
  {
   "cell_type": "code",
   "execution_count": 8,
   "metadata": {},
   "outputs": [
    {
     "name": "stdout",
     "output_type": "stream",
     "text": [
      "Mercuri\n",
      "Venus\n",
      "Terra\n",
      "Mart\n",
      "Jupiter\n",
      "Saturn\n",
      "Ura\n",
      "Neptu\n",
      "Pluto\n"
     ]
    }
   ],
   "source": [
    "llista_planetes = [\"Mercuri\", \"Venus\", \"Terra\", \"Mart\", \"Jupiter\", \"Saturn\", \"Ura\", \"Neptu\", \"Pluto\"]\n",
    "\n",
    "i = 0\n",
    "while i < len(llista_planetes):\n",
    "  print(llista_planetes[i])\n",
    "  i += 1"
   ]
  },
  {
   "cell_type": "markdown",
   "metadata": {},
   "source": [
    "### Exercici entrenament 3\n",
    "Implementa de la manera més pythonica que se t'acudeixi un bucle que tan sols imprimeixi els elements amb índex imparell de la llista de planetes"
   ]
  },
  {
   "cell_type": "code",
   "execution_count": 9,
   "metadata": {},
   "outputs": [
    {
     "name": "stdout",
     "output_type": "stream",
     "text": [
      "Venus\n",
      "Mart\n",
      "Saturn\n",
      "Neptu\n"
     ]
    }
   ],
   "source": [
    "llista_planetes = [\"Mercuri\", \"Venus\", \"Terra\", \"Mart\", \"Jupiter\", \"Saturn\", \"Ura\", \"Neptu\", \"Pluto\"]\n",
    "\n",
    "# Resposta\n",
    "\n",
    "i = 0\n",
    "while i < len(llista_planetes):\n",
    "    if i%2 != 0:\n",
    "        print(llista_planetes[i])\n",
    "    else:\n",
    "        pass\n",
    "    i+=1\n",
    "        "
   ]
  },
  {
   "cell_type": "markdown",
   "metadata": {},
   "source": [
    "### Exercici entrenament 4\n",
    "Escriu un programa que donat un text, canviï totes les e o E per 3 i o o O per 0:"
   ]
  },
  {
   "cell_type": "code",
   "execution_count": 10,
   "metadata": {},
   "outputs": [
    {
     "name": "stdout",
     "output_type": "stream",
     "text": [
      "P3rò això imp0rta p0c al n0str3 c0nt3: basta qu3 3n la narració d'3ll n0 s3 surti un punt d3 la v3ritat\n",
      "None\n"
     ]
    }
   ],
   "source": [
    "text = \"Però això importa poc al nostre conte: basta que en la narració d'ell no se surti un punt de la veritat\"\n",
    "\n",
    "def codifica(t):\n",
    "    # A completar \n",
    "   x = t.replace(\"e\", \"3\")\n",
    "   y = x.replace(\"o\", \"0\")\n",
    "   print(y)\n",
    "        \n",
    "\n",
    "print(codifica(text))"
   ]
  },
  {
   "cell_type": "code",
   "execution_count": 11,
   "metadata": {},
   "outputs": [
    {
     "name": "stdout",
     "output_type": "stream",
     "text": [
      "{'meló': 2.0, 'síndria': 2.5, 'raïm': 1.0, 'mandarina': 3.1, 'platan': 3.0, 'taronja': 4.3}\n"
     ]
    }
   ],
   "source": [
    "import numpy as np\n",
    "diccionari_1 = {'meló': 1.5, 'síndria': 3.5, 'raïm': 1.0, 'mandarina': 3.1}\n",
    "diccionari_2 = {'meló': 2.5, 'síndria': 1.5, 'platan': 3.0, 'taronja': 4.3}\n",
    "def mitjana_diccionaris(d1, d2):\n",
    "    # A completar\n",
    "    dic_nou = {}\n",
    "    for clau, valor in d1.items():\n",
    "        if clau not in dic_nou:\n",
    "            dic_nou[clau] = [valor]\n",
    "        else:\n",
    "            pass\n",
    "\n",
    "    for clau, valor in d2.items():\n",
    "        if clau not in dic_nou:\n",
    "            dic_nou[clau] = [valor]\n",
    "        else:\n",
    "           dic_nou[clau].append(valor)\n",
    "\n",
    "    for clau in dic_nou:\n",
    "        dic_nou[clau] = np.mean(dic_nou[clau])\n",
    "        #dic_nou[\"meló\"] = np.mean(dic_nou['meló'])   \n",
    "        #dic_nou[\"síndria\"] = np.mean(dic_nou['síndria'])\n",
    "    return print(dic_nou)\n",
    "\n",
    "    \n",
    "mitjana_diccionaris(diccionari_1, diccionari_2)"
   ]
  },
  {
   "cell_type": "markdown",
   "metadata": {},
   "source": [
    "NOTA: \n",
    "1. Si no hi ha return en la funció quan fas print la funció et torna u  None"
   ]
  },
  {
   "cell_type": "code",
   "execution_count": 12,
   "metadata": {},
   "outputs": [
    {
     "name": "stdout",
     "output_type": "stream",
     "text": [
      "None\n"
     ]
    }
   ],
   "source": [
    "# Exemple Nota 1\n",
    "diccionari_1 = {'meló': 1.5, 'síndria': 3.5, 'raïm': 1.0, 'mandarina': 3.1}\n",
    "diccionari_2 = {'meló': 2.5, 'síndria': 1.5, 'platan': 3.0, 'taronja': 4.3}\n",
    "def mitjana_diccionaris(d1, d2):\n",
    "    # A completar\n",
    "    dic_nou = {}\n",
    "    for clau, valor in d1.items():\n",
    "        if clau not in dic_nou:\n",
    "            dic_nou[clau] = [valor]\n",
    "        else:\n",
    "            pass\n",
    "\n",
    "    for clau, valor in d2.items():\n",
    "        if clau not in dic_nou:\n",
    "            dic_nou[clau] = [valor]\n",
    "        else:\n",
    "           dic_nou[clau].append(valor)\n",
    "\n",
    "    for clau in dic_nou:\n",
    "        dic_nou[clau] = np.mean(dic_nou[clau])\n",
    "        #dic_nou[\"meló\"] = np.mean(dic_nou['meló'])   \n",
    "        #dic_nou[\"síndria\"] = np.mean(dic_nou['síndria'])\n",
    "    \n",
    "    \n",
    "print(mitjana_diccionaris(diccionari_1, diccionari_2))"
   ]
  },
  {
   "cell_type": "markdown",
   "metadata": {},
   "source": [
    "2. Si  dins la funció en el return hi poses print(el nom de la funció), quan fas print de la funció et torna l'output de la funció i un None"
   ]
  },
  {
   "cell_type": "code",
   "execution_count": 13,
   "metadata": {},
   "outputs": [
    {
     "name": "stdout",
     "output_type": "stream",
     "text": [
      "{'meló': 2.0, 'síndria': 2.5, 'raïm': 1.0, 'mandarina': 3.1, 'platan': 3.0, 'taronja': 4.3}\n",
      "None\n"
     ]
    }
   ],
   "source": [
    "# Exemple de la Nota 2\n",
    "diccionari_1 = {'meló': 1.5, 'síndria': 3.5, 'raïm': 1.0, 'mandarina': 3.1}\n",
    "diccionari_2 = {'meló': 2.5, 'síndria': 1.5, 'platan': 3.0, 'taronja': 4.3}\n",
    "def mitjana_diccionaris(d1, d2):\n",
    "    # A completar\n",
    "    dic_nou = {}\n",
    "    for clau, valor in d1.items():\n",
    "        if clau not in dic_nou:\n",
    "            dic_nou[clau] = [valor]\n",
    "        else:\n",
    "            pass\n",
    "\n",
    "    for clau, valor in d2.items():\n",
    "        if clau not in dic_nou:\n",
    "            dic_nou[clau] = [valor]\n",
    "        else:\n",
    "           dic_nou[clau].append(valor)\n",
    "\n",
    "    for clau in dic_nou:\n",
    "        dic_nou[clau] = np.mean(dic_nou[clau])\n",
    "        #dic_nou[\"meló\"] = np.mean(dic_nou['meló'])   \n",
    "        #dic_nou[\"síndria\"] = np.mean(dic_nou['síndria'])\n",
    "    return print(dic_nou)\n",
    "\n",
    "    \n",
    "print(mitjana_diccionaris(diccionari_1, diccionari_2))"
   ]
  },
  {
   "cell_type": "markdown",
   "metadata": {},
   "source": [
    "3. Per només obtenir l'output de la funció, el print l'has d'escriure fora de la funció, en el return només hi has de posar \"return el-nom-de-la-funció\"."
   ]
  },
  {
   "cell_type": "code",
   "execution_count": 14,
   "metadata": {},
   "outputs": [
    {
     "name": "stdout",
     "output_type": "stream",
     "text": [
      "{'meló': 2.0, 'síndria': 2.5, 'raïm': 1.0, 'mandarina': 3.1, 'platan': 3.0, 'taronja': 4.3}\n"
     ]
    }
   ],
   "source": [
    "# Exemple de la Nota 3\n",
    "diccionari_1 = {'meló': 1.5, 'síndria': 3.5, 'raïm': 1.0, 'mandarina': 3.1}\n",
    "diccionari_2 = {'meló': 2.5, 'síndria': 1.5, 'platan': 3.0, 'taronja': 4.3}\n",
    "def mitjana_diccionaris(d1, d2):\n",
    "    # A completar\n",
    "    dic_nou = {}\n",
    "    for clau, valor in d1.items():\n",
    "        if clau not in dic_nou:\n",
    "            dic_nou[clau] = [valor]\n",
    "        else:\n",
    "            pass\n",
    "\n",
    "    for clau, valor in d2.items():\n",
    "        if clau not in dic_nou:\n",
    "            dic_nou[clau] = [valor]\n",
    "        else:\n",
    "           dic_nou[clau].append(valor)\n",
    "\n",
    "    for clau in dic_nou:\n",
    "        dic_nou[clau] = np.mean(dic_nou[clau])\n",
    "        #dic_nou[\"meló\"] = np.mean(dic_nou['meló'])   \n",
    "        #dic_nou[\"síndria\"] = np.mean(dic_nou['síndria'])\n",
    "    return dic_nou\n",
    "\n",
    "print(mitjana_diccionaris(diccionari_1, diccionari_2))"
   ]
  },
  {
   "cell_type": "markdown",
   "metadata": {},
   "source": [
    "### Exercici 1 EG\n",
    "Completeu el codi necessari per a:\n",
    "\n",
    "- Calcular el nombre de paraules (variables: num_paraules_text1, num_paraules_text2, num_paraules_text3)\n",
    "- Calcular el nombre d'espais d'un text (variables: num_espais_text1, num_espaiss_text2, num_espais_text3)\n",
    "- Calcular el nombre de lletres 'b' o 'B' que apareixen (variables: num_lletres_text1, num_lletres_text2, num_lletres_text3)   \n",
    " \n",
    "Tingueu en compte el següent:\n",
    "\n",
    "- El nombre d'espais no ha de d'estar necessàriament d'acord amb el nombre de paraules\n",
    "- Entre una línia de text i la següent, just després del caràcter \\, hi ha un gran nombre d'espais\n",
    "- Cal comptar el nombre de lletres 'b', indistintament de si són majúscules o minúscules"
   ]
  },
  {
   "cell_type": "markdown",
   "metadata": {},
   "source": [
    "PAS 1. Pre"
   ]
  },
  {
   "cell_type": "code",
   "execution_count": 15,
   "metadata": {},
   "outputs": [
    {
     "name": "stdout",
     "output_type": "stream",
     "text": [
      "['B', 'o', 'n', ' ', 'd', 'i', 'a', ' ', 'p', 'e', 'l', ' ', 'm', 'a', 't', 'í']\n",
      "['B', 'o', 'n', 'd', 'i', 'a', 'p', 'e', 'l', 'm', 'a', 't', 'í']\n",
      "3\n"
     ]
    }
   ],
   "source": [
    "bondia = \"Bon dia pel matí\"\n",
    "lletres = []\n",
    "paraules = []\n",
    "num_paraules = 0\n",
    "for t in bondia:\n",
    "    if t != \" \":\n",
    "        lletres += t \n",
    "    elif t == \" \":\n",
    "        lletres += t\n",
    "print(lletres)\n",
    "for l in lletres:\n",
    "    if l != ' ':\n",
    "        #d = '-'.join(l)\n",
    "        paraules.append(l)\n",
    "    else:\n",
    "        num_paraules += 1\n",
    "print(paraules)\n",
    "print(num_paraules)\n",
    "\n",
    "#print(''.join(lletres))"
   ]
  },
  {
   "cell_type": "code",
   "execution_count": 16,
   "metadata": {},
   "outputs": [
    {
     "name": "stdout",
     "output_type": "stream",
     "text": [
      "3\n"
     ]
    }
   ],
   "source": [
    "bum = 0\n",
    "for x in bondia:\n",
    "    if x == ' ':\n",
    "        bum += 1\n",
    "    \n",
    "print(bum)"
   ]
  },
  {
   "cell_type": "code",
   "execution_count": 17,
   "metadata": {},
   "outputs": [
    {
     "name": "stdout",
     "output_type": "stream",
     "text": [
      "4\n",
      "4\n"
     ]
    }
   ],
   "source": [
    "\n",
    "p = bondia.split()\n",
    "num = len(p)\n",
    "print(num)\n",
    "print(len(bondia.split()))\n",
    "    "
   ]
  },
  {
   "cell_type": "code",
   "execution_count": 18,
   "metadata": {},
   "outputs": [
    {
     "name": "stdout",
     "output_type": "stream",
     "text": [
      "59 74 7\n",
      "70 108 7\n",
      "161 232 5\n"
     ]
    }
   ],
   "source": [
    "text1 = \"There was no reason to believe that a young black boy at this time, \\\n",
    "    in this place, could in any way alter history. After all, South Africa was \\\n",
    "    then less than a decade removed from full British control. Already, laws \\\n",
    "    were being codified to implement racial segregation and subjugation, \\\n",
    "    the network of laws that would be known as apartheid\"\n",
    "\n",
    "text2 = \"Bioinformatics can be considered as the application of computer  \\\n",
    "    technology to the understanding and effective use of biological and  \\\n",
    "    clinical data. It is the discipline that acquire, stores, analyses and   \\\n",
    "    interprets the ‘big data’ generated by life science experiments, or clinical\\\n",
    "     data, using computer science. Bioinformatics uses computer programs for a \\\n",
    "     variety of applications, including determining gene and protein functions,\\\n",
    "      establishing evolutionary relationships, and predicting the      \\\n",
    "    three-dimensional shapes of proteins.\"\n",
    "\n",
    "text3= \"Drug discovery and development pipelines are long, complex and depend \\\n",
    "    on numerous factors. Machine learning (ML) approaches provide a set of \\\n",
    "    tools that can improve discovery and decision making for well-specified \\\n",
    "    questions with abundant, high-quality data. Opportunities to apply ML occur\\\n",
    "    in all stages of drug discovery. Examples include target validation, \\\n",
    "    identification of prognostic biomarkers and analysis of digital pathology  \\\n",
    "    data in clinical trials. Applications have ranged in context and           \\\n",
    "    methodology, with some approaches yielding accurate predictions and   \\\n",
    "    insights. The challenges of applying ML lie primarily with the lack of \\\n",
    "    interpretability and repeatability of ML-generated results, which may limit\\\n",
    "    their application. In all areas, systematic and comprehensive \\\n",
    "    high-dimensional data still need to be generated. With ongoing efforts to  \\\n",
    "    tackle these issues, as well as increasing awareness of the factors needed \\\n",
    "    to validate ML approaches, the application of ML can promote data-driven \\\n",
    "    decision making and has the potential to speed up the process and reduce \\\n",
    "    failure rates in drug discovery and development.\"\n",
    "\n",
    "\n",
    "def comptar_paraules(text):\n",
    "    # Compta les paraules que conté l'string text\n",
    "    num_paraules = 0\n",
    "    # Codi a completar\n",
    "    p = text.split()\n",
    "    num_paraules = len(p)\n",
    "    return num_paraules\n",
    "\n",
    "\n",
    "def comptar_espais(text):\n",
    "    # Compteu els espais que conté l'string text\n",
    "    num_espais = 0\n",
    "    # Codi a completar\n",
    "    num_espais = text.count(' ')\n",
    "    #for t in text:\n",
    "        #if t == \" \":\n",
    "            #num_espais += 1\n",
    "    return num_espais\n",
    "\n",
    "\n",
    "def comptar_lletres(text, lletra='b'):\n",
    "    # Compta les lletres 'lletra' que conté el text\n",
    "    num_lletres = 0\n",
    "    # Codi a completar\n",
    "    num_lletres = text.count('b')\n",
    "    num_lletres += text.count('B')\n",
    "    #for b in text:\n",
    "        #if b == 'b':\n",
    "            #num_lletres += 1\n",
    "        #elif  b == 'B':\n",
    "            #num_lletres += 1\n",
    "    return num_lletres\n",
    "\n",
    "\n",
    "\n",
    "# Emprem les funcions per al text1:\n",
    "num_paraules_text1 = comptar_paraules(text1)\n",
    "num_espais_text1 = comptar_espais(text1)\n",
    "num_lletres_text1 = comptar_lletres(text1)\n",
    "\n",
    "\n",
    "# I també per al text2:\n",
    "num_paraules_text2 = comptar_paraules(text2)\n",
    "num_espais_text2 = comptar_espais(text2)\n",
    "num_lletres_text2 = comptar_lletres(text2)\n",
    "\n",
    "\n",
    "# i per el text3:\n",
    "num_paraules_text3 = comptar_paraules(text3)\n",
    "num_espais_text3 = comptar_espais(text3)\n",
    "num_lletres_text3 = comptar_lletres(text3)\n",
    "\n",
    "print(num_paraules_text1, num_espais_text1, num_lletres_text1)\n",
    "print(num_paraules_text2, num_espais_text2, num_lletres_text2)\n",
    "print(num_paraules_text3, num_espais_text3, num_lletres_text3)\n",
    "\n"
   ]
  },
  {
   "cell_type": "markdown",
   "metadata": {},
   "source": [
    "### Exercici 2 MU\n",
    "Completeu les funcions matemàtiques següents i també documenteu el codi de cada funció."
   ]
  },
  {
   "cell_type": "markdown",
   "metadata": {},
   "source": [
    "Àrea cercle --> A = pi*(radi^2)"
   ]
  },
  {
   "cell_type": "code",
   "execution_count": 19,
   "metadata": {},
   "outputs": [
    {
     "name": "stdout",
     "output_type": "stream",
     "text": [
      "1661.9025137490005\n",
      "1661.9025137490005\n"
     ]
    }
   ],
   "source": [
    "import math\n",
    "radi = 23\n",
    "print(math.pi*(radi**2))\n",
    "print(np.pi*(radi**2))\n"
   ]
  },
  {
   "cell_type": "markdown",
   "metadata": {},
   "source": [
    "Longitud cercle --> diametre·pi --> (d = 2·radi)  l_c = 2·radi·pi"
   ]
  },
  {
   "cell_type": "code",
   "execution_count": 20,
   "metadata": {},
   "outputs": [
    {
     "data": {
      "text/plain": [
       "18.84955592153876"
      ]
     },
     "execution_count": 20,
     "metadata": {},
     "output_type": "execute_result"
    }
   ],
   "source": [
    "radi = 3\n",
    "math.pi*2*radi"
   ]
  },
  {
   "cell_type": "markdown",
   "metadata": {},
   "source": [
    "Hipotenusa --> a = sqrt(catet1^2 + catet2^2)"
   ]
  },
  {
   "cell_type": "code",
   "execution_count": 21,
   "metadata": {},
   "outputs": [
    {
     "data": {
      "text/plain": [
       "71.84010022264724"
      ]
     },
     "execution_count": 21,
     "metadata": {},
     "output_type": "execute_result"
    }
   ],
   "source": [
    "catet1 = 45\n",
    "catet2 = 56\n",
    "math.sqrt(catet1**2 + catet2**2)"
   ]
  },
  {
   "cell_type": "markdown",
   "metadata": {},
   "source": [
    "Àrea rectangle --> base*altura"
   ]
  },
  {
   "cell_type": "markdown",
   "metadata": {},
   "source": [
    "Volum esfera --> (4*radi^3)/3"
   ]
  },
  {
   "cell_type": "code",
   "execution_count": 22,
   "metadata": {},
   "outputs": [
    {
     "data": {
      "text/plain": [
       "4.1887902047863905"
      ]
     },
     "execution_count": 22,
     "metadata": {},
     "output_type": "execute_result"
    }
   ],
   "source": [
    "radi = 1.\n",
    "(4/3)*math.pi*(radi**3)"
   ]
  },
  {
   "cell_type": "markdown",
   "metadata": {},
   "source": [
    "Volum cub --> V = costat^3"
   ]
  },
  {
   "cell_type": "code",
   "execution_count": 23,
   "metadata": {},
   "outputs": [
    {
     "data": {
      "text/plain": [
       "8"
      ]
     },
     "execution_count": 23,
     "metadata": {},
     "output_type": "execute_result"
    }
   ],
   "source": [
    "costat = 2\n",
    "costat**3"
   ]
  },
  {
   "cell_type": "markdown",
   "metadata": {},
   "source": [
    "Volum cilindre --> V = pi·radi^2·alçada"
   ]
  },
  {
   "cell_type": "markdown",
   "metadata": {},
   "source": [
    "### Exercici 3 MU\n",
    "Donada la seqüència d'un oligopèptid, crea una funció que imprimeixi per pantalla quin aminoàcid correspon al que es troba en l'índex 5 de la seqüència. Tingues en compte que els primers 6 valors de la seqüència s'han de descartar, ja que es correspon a un identificador i que en Python sempre es comença a comptar per 0. Recorda documentar la teva funció.\n",
    "\n",
    "Per exemple, si tenim la següent seqüència:\n",
    "\n",
    "P1658|HSNUMAC\n",
    "\n",
    "El codi ens hauria de retornar:\n",
    "\n",
    "M"
   ]
  },
  {
   "cell_type": "code",
   "execution_count": 24,
   "metadata": {},
   "outputs": [
    {
     "name": "stdout",
     "output_type": "stream",
     "text": [
      "M\n"
     ]
    }
   ],
   "source": [
    "def index_residus(oligopèptid):\n",
    "  return oligopèptid[10]\n",
    " \n",
    "print(index_residus(\"P1658|HSNUMAC\"))"
   ]
  },
  {
   "cell_type": "markdown",
   "metadata": {},
   "source": [
    "### Exercici 4 MU\n",
    "Donada una molècula representada per un string de l'estil C9-H8-O4, calcula la seva massa atòmica. Per exemple, per a una molècula C4-H3, la massa atòmica seria de 4*12.01 + 3*1.007825.\n",
    "\n",
    "Busqueu una solució general accedint al diccionari mitjançant la clau que, en aquest cas, serà el tipus d'àtom. Per exemple, per a la molècula C5-H3 hauríem de seguir aquests passos:\n",
    "\n",
    "- Separar la molècula pels guions (podem fer-ho amb la funció split, per exemple).\n",
    "- Per a cadascuna de les parts, C5 i H3, trobar el tipus d'àtom: C i H. (Necessitarem un bucle d'algun tipus aquí).\n",
    "- Accedir al diccionari de masses i per a la clau que es correspon amb el tipus d'àtom, obtenir la massa.\n",
    "- Una vegada trobada la massa, multiplicar-la pel nombre d'àtoms obtinguts.\n",
    "\n",
    "**El nom de la funció ha de ser: calcula_massa_atomica**\n",
    "\n",
    "Pista: per a un string de tipus a = 'C15', a[0] ens proporcionarà el tipus d'àtom, C. a[1:] ens proporciona l'string restant: '15'. Tingueu en compte que s'ha de convertir en un nombre decimal perquè es pugui multiplicar."
   ]
  },
  {
   "cell_type": "code",
   "execution_count": 25,
   "metadata": {},
   "outputs": [
    {
     "name": "stdout",
     "output_type": "stream",
     "text": [
      "['C', 'H2', 'O2']\n",
      "46.02445\n"
     ]
    }
   ],
   "source": [
    "masses = {'H': 1.007825, 'C': 12.01, 'O': 15.9994,\n",
    "          'N': 14.0067, 'S': 31.972071, 'P': 30.973762}\n",
    "massa = 0.0\n",
    "molecula = 'C-H2-O2'\n",
    "\n",
    "# 1. Separar la molècula per guions.\n",
    "atoms = molecula.split('-')\n",
    "print(atoms)\n",
    "\n",
    "massa = 0.0\n",
    "for a in atoms:\n",
    "    if a[0] == 'C':\n",
    "        if a[1:] != '':\n",
    "            massa += float(a[1:]) * masses[a[0]]\n",
    "        else:\n",
    "            massa +=  masses[a[0]]\n",
    "    if a[0] == 'H':\n",
    "        if a[1:] != '':\n",
    "            massa += float(a[1:]) * masses[a[0]]\n",
    "        else:\n",
    "            massa +=  masses[a[0]]\n",
    "    if a[0] == 'O':\n",
    "        if a[1:] != '':\n",
    "            massa += float(a[1:]) * masses[a[0]]\n",
    "        else:\n",
    "            massa +=  masses[a[0]]\n",
    "    if a[0] == 'S':\n",
    "        if a[1:] != '':\n",
    "            massa += float(a[1:]) * masses[a[0]]\n",
    "        else:\n",
    "            massa +=  masses[a[0]]\n",
    "    if a[0] == 'P':\n",
    "        if a[1:] != '':\n",
    "            massa += float(a[1:]) * masses[a[0]]\n",
    "        else:\n",
    "            massa +=  masses[a[0]]\n",
    "    if a[0] == 'N':\n",
    "        if a[1:] != '':\n",
    "            massa += float(a[1:]) * masses[a[0]]\n",
    "        else:\n",
    "            massa +=  masses[a[0]]\n",
    "   \n",
    "#massa = np.round(massa, 6)        \n",
    "\n",
    "print(massa)"
   ]
  },
  {
   "cell_type": "code",
   "execution_count": 26,
   "metadata": {},
   "outputs": [
    {
     "data": {
      "text/plain": [
       "46.024"
      ]
     },
     "execution_count": 26,
     "metadata": {},
     "output_type": "execute_result"
    }
   ],
   "source": [
    "height = np.round(46.02445, 3)\n",
    "weight = np.round(np.random.normal(60.3256, 15.90, 5000), 2)\n",
    "# np_city = np.column_stack((height, weight))\n",
    "height"
   ]
  },
  {
   "cell_type": "code",
   "execution_count": 27,
   "metadata": {},
   "outputs": [
    {
     "name": "stdout",
     "output_type": "stream",
     "text": [
      "\n",
      "2\n",
      "2\n"
     ]
    }
   ],
   "source": [
    "for i in atoms:\n",
    "    print(i[1:])"
   ]
  },
  {
   "cell_type": "code",
   "execution_count": 28,
   "metadata": {},
   "outputs": [
    {
     "name": "stdout",
     "output_type": "stream",
     "text": [
      "C\n",
      "H\n",
      "2\n",
      "O\n",
      "2\n"
     ]
    }
   ],
   "source": [
    "# Prova. Comprovació que cada item del for es pot subdivir com es faria amb una llista.\n",
    "for grup in atoms:\n",
    "    m = 0\n",
    "    while m < len(atoms):\n",
    "        #print(grup)\n",
    "        if m < len(grup):\n",
    "            print(grup[m])\n",
    "        \n",
    "        #print(grup)\n",
    "        m += 1\n",
    "\n",
    "    "
   ]
  },
  {
   "cell_type": "markdown",
   "metadata": {},
   "source": [
    "### Exercici 5 EG\n",
    "Un dels algorismes més bàsics en criptografia és el xifrat Cèsar (https://es.wikipedia.org/wiki/Cifrado_C%C3%A9sar), que va ser utilitzat per Juli Cèsar per a comunicar-se amb els seus generals, i que consisteix en el fet que donat un text, per a cadascuna de les lletres del text, afegir-li un desplaçament per a aconseguir una nova lletra diferent de l'original. Comprendrem ràpidament el seu mecanisme mitjançant un exemple:\n",
    "\n",
    "Si assignem el nombre 1 a la primera lletra de l'abecedari, A, 2 a la següent, B, etc., imagineu que tenim el missatge següent:\n",
    "\n",
    "ABC 123\n",
    "\n",
    "Si apliquem un desplaçament de 3, buscarem quina és la lletra de l'abecedari que es correspon:\n",
    "\n",
    "DEF 456\n",
    "\n",
    "ABC s'ha convertit en DEF perquè li hem sumat un desplaçament de 3. També podríem aplicar altres tipus de desplaçament, com ara els negatius. Per exemple, per al desplaçament -1 i el missatge original ABC, tindríem un missatge xifrat de: ZAB.\n",
    "\n",
    "Escriviu una funció que donat un missatge original i un desplaçament, calculi i retorni el missatge xifrat:"
   ]
  },
  {
   "cell_type": "code",
   "execution_count": 29,
   "metadata": {},
   "outputs": [
    {
     "name": "stdout",
     "output_type": "stream",
     "text": [
      "3\n",
      "3\n"
     ]
    }
   ],
   "source": [
    "print(63 % 10)\n",
    "print(83 % 10)"
   ]
  },
  {
   "cell_type": "code",
   "execution_count": 53,
   "metadata": {},
   "outputs": [
    {
     "name": "stdout",
     "output_type": "stream",
     "text": [
      "A D\n"
     ]
    },
    {
     "data": {
      "text/plain": [
       "int"
      ]
     },
     "execution_count": 53,
     "metadata": {},
     "output_type": "execute_result"
    }
   ],
   "source": [
    "missatge = 'ABCD'\n",
    "num = list(range(0,26))\n",
    "abc = ['A', 'B', 'C', 'D', 'E', 'F', 'G', 'H', 'I', 'J', 'K', 'L', 'M', 'N', 'O', 'P', 'Q', 'R', 'S', 'T', 'U', 'V', 'W', 'X', 'Y', 'Z']\n",
    "print(abc[0], abc[3])\n",
    "type(num[1])"
   ]
  },
  {
   "cell_type": "code",
   "execution_count": 31,
   "metadata": {},
   "outputs": [
    {
     "name": "stdout",
     "output_type": "stream",
     "text": [
      "A C\n"
     ]
    }
   ],
   "source": [
    "d = 2\n",
    "m = 0\n",
    "n = m + d\n",
    "print(missatge[m], missatge[n])"
   ]
  },
  {
   "cell_type": "code",
   "execution_count": 107,
   "metadata": {},
   "outputs": [
    {
     "name": "stdout",
     "output_type": "stream",
     "text": [
      "PROGRAMACION PARA LA BIOINFORMATICA\n"
     ]
    }
   ],
   "source": [
    "num = list(range(0,26)) # realment no cal\n",
    "abc = ['A', 'B', 'C', 'D', 'E', 'F', 'G', 'H', 'I', 'J', 'K', 'L', 'M', 'N', 'O', 'P', 'Q', 'R', 'S', 'T', 'U', 'V', 'W', 'X', 'Y', 'Z']\n",
    "#print(abc, num)\n",
    "dic_abc_num = {} # Diccionari buit per omplir lletres com a claus i números coma valors\n",
    "v = 0\n",
    "for k in abc: # per a cada lletre de la llista abc...\n",
    "    dic_abc_num[k] = v # ... associem el número corresponent mitjançant una variable comptador que a cada passada va augmentan de valor. Tantes lletres hi hagin en la llista abc, tant anirà sumant el comptador i per tant cada número s'anirà associants amb una lletra.\n",
    "    v += 1\n",
    "#print(dic_abc_num)\n",
    "missatge = 'ABCD'\n",
    "missatge1 = 'XYZ'\n",
    "missatge2 = \"PROGRAMACION PARA LA BIOINFORMATICA\"\n",
    "\n",
    "d = 26 # desplaçament\n",
    "m = 0 # número corresponent a la lletra del missatge de l'input\n",
    "n = 0 # número corresponent a la lletre del missatge de l'output\n",
    "cod = '' # variable de tipus string per anar afegint cada lletre o espai.\n",
    "for i in missatge:\n",
    "    if i != ' ': # si el caràcter no és un espai, per tant una lletre --> es codifica i s'afeigeix a l'string \"cod\".\n",
    "        m = dic_abc_num[i]\n",
    "        n = (m + d) % 26\n",
    "        cod += abc[n]\n",
    "        #print(n, abc[n])\n",
    "    else: # En canvi si el caràcter correspont aun espai, afegeix un espai a l'string \"cod\".\n",
    "        cod += ' '\n",
    "print(cod)"
   ]
  },
  {
   "cell_type": "code",
   "execution_count": 89,
   "metadata": {},
   "outputs": [
    {
     "data": {
      "text/plain": [
       "'PROGRAMACIONPARALABIOINFORMATICA'"
      ]
     },
     "execution_count": 89,
     "metadata": {},
     "output_type": "execute_result"
    }
   ],
   "source": [
    "missatge2 = ''.join(missatge2.split())\n",
    "missatge2"
   ]
  },
  {
   "cell_type": "code",
   "execution_count": 43,
   "metadata": {},
   "outputs": [
    {
     "ename": "SyntaxError",
     "evalue": "incomplete input (1064736179.py, line 3)",
     "output_type": "error",
     "traceback": [
      "\u001b[1;36m  Cell \u001b[1;32mIn[43], line 3\u001b[1;36m\u001b[0m\n\u001b[1;33m    #print(chr(numm))\u001b[0m\n\u001b[1;37m                     ^\u001b[0m\n\u001b[1;31mSyntaxError\u001b[0m\u001b[1;31m:\u001b[0m incomplete input\n"
     ]
    }
   ],
   "source": [
    "num_ascii = list(range(65, 91))\n",
    "for numm in num_ascii:\n",
    "    print(chr(numm))"
   ]
  },
  {
   "cell_type": "code",
   "execution_count": 46,
   "metadata": {},
   "outputs": [
    {
     "data": {
      "text/plain": [
       "0"
      ]
     },
     "execution_count": 46,
     "metadata": {},
     "output_type": "execute_result"
    }
   ],
   "source": [
    "25 % 25"
   ]
  },
  {
   "cell_type": "code",
   "execution_count": 36,
   "metadata": {},
   "outputs": [],
   "source": [
    "txt = \"\"\"Xifra el missatge utilitzant el mètode de Cèsar donat un desplaçament\"\"\"\n",
    "r = 0\n",
    "while r < len(txt):\n",
    "    r % 26\n",
    "    r += 1\n",
    "\n",
    "\n"
   ]
  },
  {
   "cell_type": "code",
   "execution_count": 113,
   "metadata": {},
   "outputs": [
    {
     "data": {
      "text/plain": [
       "'RTQITCOCEKQP RCTC NC DKQKPHQTOCVKEC'"
      ]
     },
     "execution_count": 113,
     "metadata": {},
     "output_type": "execute_result"
    }
   ],
   "source": [
    "missatge2 = \"PROGRAMACION PARA LA BIOINFORMATICA\"\n",
    "def xifrat_cesar(missatge, desplaçament=1):\n",
    "    \"\"\"Xifra el missatge utilitzant el mètode de Cèsar\n",
    "    donat un desplaçament\n",
    "    \"\"\"\n",
    "    missatge_xifrat = \"\"\n",
    "\n",
    "    # Codi a completar\n",
    "    abc = ['A', 'B', 'C', 'D', 'E', 'F', 'G', 'H', 'I', 'J', 'K', 'L', 'M', 'N', 'O', 'P', 'Q', 'R', 'S', 'T', 'U', 'V', 'W', 'X', 'Y', 'Z']\n",
    "    dic_abc_num = {} # Diccionari buit per omplir lletres com a claus i números coma valors\n",
    "    v = 0\n",
    "    for k in abc: # per a cada lletre de la llista abc...\n",
    "      dic_abc_num[k] = v # ... associem el número corresponent mitjançant una variable comptador que a cada passada va augmentan de valor. Tantes lletres hi hagin en la llista abc, tant anirà sumant el comptador i per tant cada número s'anirà associants amb una lletra.\n",
    "      v += 1\n",
    "    m = 0 # número corresponent a la lletra del missatge de l'input\n",
    "    n = 0 # número corresponent a la lletre del missatge de l'output\n",
    "    for i in missatge:\n",
    "      if i != ' ': # si el caràcter no és un espai, per tant una lletre --> es codifica i s'afeigeix a l'string \"cod\".\n",
    "          m = dic_abc_num[i]\n",
    "          n = (m + desplaçament) % 26\n",
    "          missatge_xifrat += abc[n]\n",
    "        #print(n, abc[n])\n",
    "      else: # En canvi si el caràcter correspont aun espai, afegeix un espai a l'string \"cod\".\n",
    "          missatge_xifrat += ' '\n",
    "    \n",
    "    return missatge_xifrat\n",
    "\n",
    "xifrat_cesar(missatge2, 2)"
   ]
  },
  {
   "cell_type": "markdown",
   "metadata": {},
   "source": [
    "### Exercici 6 EG\n",
    "El format PDB s'utilitza en química computacional per a guardar informació sobre les molècules al disc. Cada línia que comença amb ATOM representa un àtom de la molècula:\n",
    "\n",
    "ATOM      1  N   ARG A   1       0.609  18.920  11.647  1.00 18.79           N  \n",
    "ATOM      2  CA  ARG A   1       0.149  17.722  10.984  1.00 13.68           C  \n",
    "0.609, 18.920 i 11.647 són les coordenades x, y, z de l'àtom 1 (un nitrogen, N, última lletra de la línia). El segon àtom és de tipus C (Carboni) i de nom CA (Carboni Alfa).\n",
    "\n",
    "Completeu el codi següent **que compti el nombre d'àtoms que hi ha a cada element.**\n",
    "\n",
    "Per exemple, per a les línies següents:\n",
    "\n",
    "ATOM    211  N   TYR A  27       4.697   8.290  -3.031  1.00 13.35           N  \n",
    "ATOM    212  CA  TYR A  27       5.025   8.033  -1.616  0.51 11.29           C  \n",
    "ATOM    214  C   TYR A  27       4.189   8.932  -0.730  1.00 10.87           C  \n",
    "ATOM    215  O   TYR A  27       3.774  10.030  -1.101  1.00 12.90           O  \n",
    "tindrem dos àtoms de tipus C, un àtom de tipus O i un altre àtom de tipus N.\n",
    "\n",
    "IMPORTANT: Tingueu en compte que, a priori, no sabeu quins tipus d'àtom podreu trobar fins que no es llegeixi la línia en el vostre codi. Per tant, no podeu definir una llista o el diccionari d'àtoms que heu trobat tret que es defineixi buida i es vagi actualitzant a mesura que trobem tipus d'àtoms que no havíem trobat abans.\n",
    "\n",
    "L'arxiu que utilitzarem està en un directori extern i el fitxer és 1l2y.pdb. El resultat es retornarà per pantalla i escrit en un fitxer."
   ]
  },
  {
   "cell_type": "code",
   "execution_count": 120,
   "metadata": {},
   "outputs": [
    {
     "name": "stdout",
     "output_type": "stream",
     "text": [
      "211\n",
      "212\n",
      "214\n",
      "215\n",
      "216\n",
      "218\n",
      "220\n",
      "222\n",
      "224\n",
      "226\n",
      "228\n",
      "230\n",
      "232\n",
      "233\n",
      "234\n",
      "235\n",
      "236\n",
      "237\n",
      "238\n",
      "239\n",
      "240\n",
      "241\n",
      "242\n",
      "{'211': [4.697, 8.29, -3.031], '212': [5.025, 8.033, -1.616], '214': [4.189, 8.932, -0.73], '215': [3.774, 10.03, -1.101], '216': [6.509, 8.214, -1.31], '218': [7.406, 7.086, -1.795], '220': [7.951, 6.144, -0.978], '222': [7.674, 6.963, -3.164], '224': [8.752, 5.109, -1.405], '226': [8.455, 5.964, -3.656], '228': [8.99, 5.041, -2.763], '230': [9.803, 4.026, -3.237], '232': [3.977, 8.402, 0.487], '233': [3.295, 9.146, 1.517], '234': [4.174, 10.264, 2.053], '235': [5.378, 10.108, 2.202], '236': [2.912, 8.21, 2.68], '237': [1.804, 6.853, 2.197], '238': [3.546, 11.391, 2.43], '239': [4.295, 12.472, 3.049], '240': [3.416, 13.524, 3.596], '241': [3.985, 14.574, 4.052], '242': [2.168, 13.386, 3.672]}\n"
     ]
    }
   ],
   "source": [
    "import os\n",
    "\n",
    "molecula = \"\"\"\n",
    "ATOM    211  N   TYR A  27       4.697   8.290  -3.031  1.00 13.35           N\n",
    "ATOM    212  CA  TYR A  27       5.025   8.033  -1.616  0.51 11.29           C\n",
    "ATOM    214  C   TYR A  27       4.189   8.932  -0.730  1.00 10.87           C\n",
    "ATOM    215  O   TYR A  27       3.774  10.030  -1.101  1.00 12.90           O\n",
    "ATOM    216  CB  TYR A  27       6.509   8.214  -1.310  0.51 12.65           C\n",
    "ATOM    218  CG  TYR A  27       7.406   7.086  -1.795  0.51 14.00           C\n",
    "ATOM    220  CD1 TYR A  27       7.951   6.144  -0.978  0.51 14.16           C\n",
    "ATOM    222  CD2 TYR A  27       7.674   6.963  -3.164  0.51 17.10           C\n",
    "ATOM    224  CE1 TYR A  27       8.752   5.109  -1.405  0.51 14.93           C\n",
    "ATOM    226  CE2 TYR A  27       8.455   5.964  -3.656  0.51 17.43           C\n",
    "ATOM    228  CZ  TYR A  27       8.990   5.041  -2.763  0.51 16.44           C\n",
    "ATOM    230  OH  TYR A  27       9.803   4.026  -3.237  0.51 17.79           O\n",
    "ATOM    232  N   CYS A  28       3.977   8.402   0.487  1.00 10.53           N\n",
    "ATOM    233  CA  CYS A  28       3.295   9.146   1.517  1.00 10.04           C\n",
    "ATOM    234  C   CYS A  28       4.174  10.264   2.053  1.00 10.31           C\n",
    "ATOM    235  O   CYS A  28       5.378  10.108   2.202  1.00 12.91           O\n",
    "ATOM    236  CB  CYS A  28       2.912   8.210   2.680  1.00  9.81           C\n",
    "ATOM    237  SG  CYS A  28       1.804   6.853   2.197  1.00  9.93           S\n",
    "ATOM    238  N   GLY A  29       3.546  11.391   2.430  1.00 10.76           N\n",
    "ATOM    239  CA  GLY A  29       4.295  12.472   3.049  1.00 11.93           C\n",
    "ATOM    240  C   GLY A  29       3.416  13.524   3.596  1.00 12.60           C\n",
    "ATOM    241  O   GLY A  29       3.985  14.574   4.052  1.00 15.82           O\n",
    "ATOM    242  OXT GLY A  29       2.168  13.386   3.672  1.00 11.37           O\n",
    "\"\"\"\n",
    "\n",
    "# Llegirem línia a línia cada àtom i guardarem\n",
    "# les seves coordenades en un diccionari:\n",
    "coordenades = {}\n",
    "\n",
    "# Separem l'string molècula pels salts de línia\n",
    "lines = molecula.split('\\n')\n",
    "\n",
    "# Ara iterem per cadascuna de les línies\n",
    "for line in lines:\n",
    "    # Si la línia comença amb ATOM:\n",
    "    if line.startswith('ATOM'):\n",
    "        # Guardarem el nombre d'àtom (211, 212, 214, etc.):\n",
    "        camps = line.split()\n",
    "        # El nombre d'àtom es correspon amb el segon camp\n",
    "        # quan separem la línia amb espais. Quan els índexs\n",
    "        # comencen amb 0, el segon es correspon amb l'índex 1:\n",
    "        num_atom = camps[1]\n",
    "        print(num_atom)\n",
    "\n",
    "        # Ara obtindrem les coordenades x, y, z de l'àtom\n",
    "        # de la mateixa forma:\n",
    "        x = float(camps[6])\n",
    "        y = float(camps[7])\n",
    "        z = float(camps[8])\n",
    "\n",
    "        # Finalment, guardem en el diccionari les coordenades\n",
    "        # per la clau del nombre d'àtom:\n",
    "        coordenades[num_atom] = [x, y, z]\n",
    "\n",
    "# Mostra el diccionari:\n",
    "print(coordenades)"
   ]
  },
  {
   "cell_type": "code",
   "execution_count": 131,
   "metadata": {},
   "outputs": [
    {
     "name": "stdout",
     "output_type": "stream",
     "text": [
      "N\n",
      "C\n",
      "C\n",
      "O\n",
      "C\n",
      "C\n",
      "C\n",
      "C\n",
      "C\n",
      "C\n",
      "C\n",
      "O\n",
      "N\n",
      "C\n",
      "C\n",
      "O\n",
      "C\n",
      "S\n",
      "N\n",
      "C\n",
      "C\n",
      "O\n",
      "O\n"
     ]
    }
   ],
   "source": [
    "lines = molecula.split('\\n')\n",
    "for line in lines:\n",
    "    if line.startswith('ATOM'):\n",
    "        atom = line[77].strip()\n",
    "        print (atom)"
   ]
  },
  {
   "cell_type": "code",
   "execution_count": null,
   "metadata": {},
   "outputs": [],
   "source": [
    "def compta_atoms(pdb_file_name):\n",
    "    # Guardarem en aquesta variable els àtoms que hem trobat:\n",
    "    numero_atoms= dict()\n",
    "\n",
    "    # Obrim el fitxer:\n",
    "    with open(pdb_file_name) as in_f:\n",
    "\n",
    "        # Codi a completar\n",
    "        with open('Resultat_Exercici6.txt', 'w') as output_file:\n",
    "            for line in in_f:\n",
    "                line = line.rstrip('\\n')\n",
    "                print(line)\n",
    "\n",
    "\n",
    "\n",
    "        return numero_atoms"
   ]
  },
  {
   "cell_type": "code",
   "execution_count": 55,
   "metadata": {},
   "outputs": [
    {
     "name": "stdout",
     "output_type": "stream",
     "text": [
      "{'N': 27, 'C': 98, 'O': 29, 'H': 150}\n"
     ]
    }
   ],
   "source": [
    "import os\n",
    "chain_id = []\n",
    "chains = []\n",
    "atom_name = []\n",
    "atoms = []\n",
    "atoms_chains = dict()\n",
    "# Obrim el fitxer:\n",
    "with open('1l2y.pdb') as in_f:\n",
    "\n",
    "        # Codi a completar\n",
    "    with open('Resultat_Exercici6.txt', 'w') as out_f:\n",
    "        for line in in_f:\n",
    "            #line = line.rstrip(os.linesep)\n",
    "            out_f.write(line)\n",
    "            line = line.rstrip('\\n')\n",
    "            #print(f'{line}')\n",
    "            #chain_id = line[21]\n",
    "            #if chain_id not in chains:\n",
    "                #chains.append(chain_id)\n",
    "            \n",
    "            atom_name = line[13]\n",
    "            \n",
    "            are_H = ['D', 'G', 'E']\n",
    "            \n",
    "            if atom_name not in atoms:\n",
    "                if atom_name in are_H:\n",
    "                    atom_name = 'H'\n",
    "                    atoms.append(atom_name)\n",
    "                else:\n",
    "                    atoms.append(atom_name)\n",
    "\n",
    "            \n",
    "            if atom_name not in atoms_chains:\n",
    "                atoms_chains[atom_name] = 1\n",
    "            else:\n",
    "                atoms_chains[atom_name] += 1\n",
    "numero_atoms = atoms_chains\n",
    "print(numero_atoms)\n",
    "\n",
    "with open('Resultat_Exercici6.txt', 'w') as fw:\n",
    "    fw.write(str(numero_atoms))\n",
    "\n",
    "            \n",
    "\n"
   ]
  },
  {
   "cell_type": "code",
   "execution_count": 33,
   "metadata": {},
   "outputs": [
    {
     "data": {
      "text/plain": [
       "['a', 'h', 'h', 'g']"
      ]
     },
     "execution_count": 33,
     "metadata": {},
     "output_type": "execute_result"
    }
   ],
   "source": [
    "li_nu = ['a', 'f', 'h', 'g']\n",
    "li_nu[li_nu.index('f')] = 'h'\n",
    "li_nu"
   ]
  },
  {
   "cell_type": "markdown",
   "metadata": {},
   "source": [
    "### Exercici 7 MU\n",
    "Escriu un funció anomenada **first_last_same** que retorni **True** si el primer i últim número d'una llista donada és el mateix. Si els números són diferents, que retorni **False**."
   ]
  },
  {
   "cell_type": "code",
   "execution_count": 3,
   "metadata": {},
   "outputs": [
    {
     "name": "stdout",
     "output_type": "stream",
     "text": [
      "Donada la llista: [10, 20, 30, 40, 50]\n",
      "False\n"
     ]
    }
   ],
   "source": [
    "l_m = [10, 20, 30, 40, 50]\n",
    "def first_last_same(numberList):\n",
    "    print(\"Donada la llista:\", numberList)\n",
    "    if numberList[0] == numberList[-1]:\n",
    "        print(\"True\") # l'exercici demana return enlloc de print\n",
    "    else:\n",
    "        print(\"False\") # Peer tant és el mateix per enlloc de print s'ha de posar return\n",
    "    \n",
    "\n",
    "first_last_same(l_m)"
   ]
  },
  {
   "cell_type": "markdown",
   "metadata": {},
   "source": [
    "## Exercici 8 MU\n",
    "Per a la llista de números següent, escriu per pantalla tots aquells que siguin parells i tots aquells que siguin múltiples de 5 i quants has trobat de cada un:"
   ]
  },
  {
   "cell_type": "code",
   "execution_count": 7,
   "metadata": {},
   "outputs": [
    {
     "name": "stdout",
     "output_type": "stream",
     "text": [
      "Els números parells són:  [2498, 4880, 7478, 8600, 4516, 1602, 134, 6442, 5436, 7326, 2998, 3096, 5120, 8182, 8098, 8194, 6028, 5962, 8988, 2742, 1484, 9236, 1784, 6636, 7348, 7422]  n'hi ha:  26\n",
      "Els números parells són:  [4880, 8600, 865, 5120, 4735, 1915, 7195]  n'hi ha:  7\n"
     ]
    }
   ],
   "source": [
    "numeros = [2498, 4337, 4880, 7478, 8600, 4516, 865,  3371, 8991, 5129,\n",
    "           1602, 3299, 4707, 1079, 134,  6442, 1839, 7037, 5436, 2517,\n",
    "           7326, 501,  6459, 3133, 2998, 9399, 3096, 5120, 9481, 8182,\n",
    "           8098, 8194, 6028, 5962, 8861, 1917, 8988, 2742, 4735, 1484,\n",
    "           5919, 1915, 2009, 7195, 9236, 423,  1784, 6636, 7348, 7422]\n",
    "\n",
    "num_parells = 0\n",
    "parells = []\n",
    "num_multiples_cinc = 0\n",
    "multiples_cinc= []\n",
    "\n",
    "for n in numeros:\n",
    "    if n % 2 == 0:\n",
    "        parells.append(n)\n",
    "        num_parells += 1\n",
    "for n in numeros:\n",
    "    if n % 5 == 0:\n",
    "        multiples_cinc.append(n)\n",
    "        num_multiples_cinc += 1\n",
    "print(\"Els números parells són: \", parells, \" n'hi ha: \", num_parells)\n",
    "print(\"Els números parells són: \", multiples_cinc, \" n'hi ha: \", num_multiples_cinc)\n"
   ]
  },
  {
   "cell_type": "code",
   "execution_count": 6,
   "metadata": {},
   "outputs": [
    {
     "data": {
      "text/plain": [
       "0"
      ]
     },
     "execution_count": 6,
     "metadata": {},
     "output_type": "execute_result"
    }
   ],
   "source": [
    "4880 % 5"
   ]
  },
  {
   "cell_type": "markdown",
   "metadata": {},
   "source": [
    "## Exercici 9 MU\n",
    "Donades dues llistes de números creeu una nova llista que contingui els números senars de les dues llistes"
   ]
  },
  {
   "cell_type": "code",
   "execution_count": 9,
   "metadata": {},
   "outputs": [
    {
     "data": {
      "text/plain": [
       "[25, 35, 47, 19, 21, 23, 51, 2303, 45, 75, 81, 5, 9, 27, 95, 101, 997, 1001]"
      ]
     },
     "execution_count": 9,
     "metadata": {},
     "output_type": "execute_result"
    }
   ],
   "source": [
    "l1 = [10, 20, 25, 30, 35, 47, 2, 4, 16, 19, 21, 23, 51, 56, 1116, 2303]\n",
    "l2 = [40, 45, 60, 75, 90, 81, 5, 9, 44, 66, 27, 95, 101, 1000, 997, 1001]\n",
    "def merge_list(list1, list2):\n",
    "    result_list = []\n",
    "\n",
    "    #A completar\n",
    "    for n in list1:\n",
    "        if n % 2 != 0:\n",
    "            result_list.append(n)\n",
    "    for n in list2:\n",
    "        if n % 2 != 0:\n",
    "            result_list.append(n)\n",
    "\n",
    "    return result_list\n",
    "\n",
    "merge_list(l1, l2)"
   ]
  },
  {
   "cell_type": "markdown",
   "metadata": {},
   "source": [
    "## Exercici 10 MU\n",
    "Escriu un programa que calculi la distància entre dos punts a l'espai 3D. Aquests punts són (x1, y1, z1) i (x2, y2, z2):"
   ]
  },
  {
   "cell_type": "code",
   "execution_count": 12,
   "metadata": {},
   "outputs": [
    {
     "data": {
      "text/plain": [
       "7.14142842854285"
      ]
     },
     "execution_count": 12,
     "metadata": {},
     "output_type": "execute_result"
    }
   ],
   "source": [
    "import math \n",
    "def distance(x1, y1, z1, x2, y2, z2):\n",
    "    \"\"\"Calcula la distància euclidiana entre dos puntos 3D\"\"\"\n",
    "    d = 0.0\n",
    "\n",
    "    # A completar,\n",
    "    d = math.sqrt((x2-x1)**2 + (y2-y1)**2 + (z2-z1)**2)\n",
    "\n",
    "    return d\n",
    "\n",
    "distance(1.0, 9.0, 1.0, 2.0, 4.0, 6.0)"
   ]
  },
  {
   "cell_type": "code",
   "execution_count": 10,
   "metadata": {},
   "outputs": [
    {
     "name": "stdout",
     "output_type": "stream",
     "text": [
      "1.3242488436845987\n"
     ]
    }
   ],
   "source": [
    "import math\n",
    "\n",
    "# Definim les coordenades dels atomos com a punts 3D mitjançant tuplas\n",
    "carboni = (26.100, 29.253, 5.202)\n",
    "nitrogen = (26.849, 29.656, 6.217)\n",
    "\n",
    "# Definim una funció que calculi la distancia entre dos punts\n",
    "def distància(carboni, nitrogen):\n",
    "    d = math.sqrt((carboni[0]-nitrogen[0])**2 + (carboni[1]-nitrogen[1])**2 + (carboni[2]-nitrogen[2])**2)\n",
    "    \n",
    "\n",
    "# A completar\n",
    "    return d\n",
    "# Apliquem la funció distancia als dos atomos\n",
    "print(distància(carboni, nitrogen))"
   ]
  },
  {
   "cell_type": "markdown",
   "metadata": {},
   "source": [
    "## Pregunta 1 EG\n",
    "El paradigma de programació orientada als objectes és àmpliament utilitzat per una gran part de les llibreries que s'escriuen amb Python. És una forma útil d'encapsular la informació de què s'ocuparà el mateix objecte en què s'ha definit aquesta informació.\n",
    "\n",
    "Expliqueu què són els conceptes següents:\n",
    "\n",
    "Una classe\n",
    "Un objecte\n",
    "Un atribut\n",
    "Un mètode\n",
    "Un constructor\n",
    "Una superclasse i una subclasse\n",
    "Poseu un exemple de definició d'una classe en codi Python i un exemple d'ús d'aquesta mateixa classe.\n",
    "\n",
    "Resposta:"
   ]
  },
  {
   "cell_type": "markdown",
   "metadata": {},
   "source": [
    "- Classes are used to define the structure and behavior of objects.\n",
    "is a blueprint for declaring and creating objects and creating objects.\n",
    "- Objects are used to represent specific entites in a program."
   ]
  },
  {
   "cell_type": "code",
   "execution_count": null,
   "metadata": {},
   "outputs": [],
   "source": []
  },
  {
   "cell_type": "code",
   "execution_count": null,
   "metadata": {},
   "outputs": [],
   "source": []
  },
  {
   "cell_type": "code",
   "execution_count": null,
   "metadata": {},
   "outputs": [],
   "source": []
  },
  {
   "cell_type": "code",
   "execution_count": 5,
   "metadata": {},
   "outputs": [
    {
     "name": "stdout",
     "output_type": "stream",
     "text": [
      "18 33\n"
     ]
    }
   ],
   "source": [
    "s = \"ertabchgyueiajgabcnmcvuywerxyztyuabcmnbwertyuqwerasxyz\"\n",
    "is_orf = False\n",
    "max_len = 0\n",
    "max_len_start = None\n",
    "curr_orf_start = None\n",
    "curr_orf_len = 0\n",
    "\n",
    "for cod_i in range(3, len(s), 3):\n",
    "    curr_cod = s[cod_i:cod_i+3]\n",
    "\n",
    "    if curr_cod == \"abc\":\n",
    "        is_orf = True\n",
    "        curr_orf_start = cod_i\n",
    "\n",
    "    else:\n",
    "        if is_orf:\n",
    "            if curr_cod == \"xyz\":\n",
    "                curr_orf_len = cod_i - curr_orf_start\n",
    "                \n",
    "                # checking if the current codon is the largest one so far\n",
    "                if max_len < curr_orf_len:\n",
    "                    max_len = curr_orf_len\n",
    "                    max_len_start = curr_orf_start\n",
    "\n",
    "print(max_len, max_len_start)\n"
   ]
  },
  {
   "cell_type": "code",
   "execution_count": null,
   "metadata": {},
   "outputs": [],
   "source": [
    "s[max_len_start:max_len_start+max_len+3]"
   ]
  }
 ],
 "metadata": {
  "kernelspec": {
   "display_name": "Python 3",
   "language": "python",
   "name": "python3"
  },
  "language_info": {
   "codemirror_mode": {
    "name": "ipython",
    "version": 3
   },
   "file_extension": ".py",
   "mimetype": "text/x-python",
   "name": "python",
   "nbconvert_exporter": "python",
   "pygments_lexer": "ipython3",
   "version": "3.12.1"
  }
 },
 "nbformat": 4,
 "nbformat_minor": 2
}
