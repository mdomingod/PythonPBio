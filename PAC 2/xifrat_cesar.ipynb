{
 "cells": [
  {
   "cell_type": "code",
   "execution_count": 10,
   "metadata": {},
   "outputs": [
    {
     "data": {
      "text/plain": [
       "'RTQITCOCEKQP RCTC NC DKQKPHQTOCVKEC'"
      ]
     },
     "execution_count": 10,
     "metadata": {},
     "output_type": "execute_result"
    }
   ],
   "source": [
    "missatge2 = \"PROGRAMACION PARA LA BIOINFORMATICA\"\n",
    "def xifrat_cesar(missatge, desplaçament=1):\n",
    "    \"\"\"Xifra el missatge utilitzant el mètode de Cèsar\n",
    "    donat un desplaçament\n",
    "    \"\"\"\n",
    "    missatge_xifrat = \"\"\n",
    "\n",
    "    # Codi a completar\n",
    "    abc = ['A', 'B', 'C', 'D', 'E', 'F', 'G', 'H', 'I', 'J', 'K', 'L', 'M', 'N', 'O', 'P', 'Q', 'R', 'S', 'T', 'U', 'V', 'W', 'X', 'Y', 'Z']\n",
    "    dic_abc_num = {} # Diccionari buit per omplir lletres com a claus i números coma valors\n",
    "    v = 65\n",
    "    for k in abc: # per a cada lletre de la llista abc...\n",
    "      dic_abc_num[k] = v # ... associem el número corresponent mitjançant una variable comptador que a cada passada va augmentan de valor. Tantes lletres hi hagin en la llista abc, tant anirà sumant el comptador i per tant cada número s'anirà associants amb una lletra.\n",
    "      v += 1\n",
    "    m = 0 # número corresponent a la lletra del missatge de l'input\n",
    "    n = 0 # número corresponent a la lletre del missatge de l'output\n",
    "    for i in missatge:\n",
    "      if i != ' ': # si el caràcter no és un espai, per tant una lletre --> es codifica i s'afeigeix a l'string \"cod\".\n",
    "          m = dic_abc_num[i]\n",
    "          n = (m + desplaçament) % 91\n",
    "          missatge_xifrat += chr(n)\n",
    "        #print(n, abc[n])\n",
    "      else: # En canvi si el caràcter correspont aun espai, afegeix un espai a l'string \"cod\".\n",
    "          missatge_xifrat += ' '\n",
    "    \n",
    "    return missatge_xifrat\n",
    "\n",
    "xifrat_cesar(missatge2, 2)"
   ]
  },
  {
   "cell_type": "code",
   "execution_count": 9,
   "metadata": {},
   "outputs": [
    {
     "name": "stdout",
     "output_type": "stream",
     "text": [
      "{'A': 65, 'B': 66, 'C': 67, 'D': 68, 'E': 69, 'F': 70, 'G': 71, 'H': 72, 'I': 73, 'J': 74, 'K': 75, 'L': 76, 'M': 77, 'N': 78, 'O': 79, 'P': 80, 'Q': 81, 'R': 82, 'S': 83, 'T': 84, 'U': 85, 'V': 86, 'W': 87, 'X': 88, 'Y': 89, 'Z': 90}\n"
     ]
    }
   ],
   "source": [
    "abc = ['A', 'B', 'C', 'D', 'E', 'F', 'G', 'H', 'I', 'J', 'K', 'L', 'M', 'N', 'O', 'P', 'Q', 'R', 'S', 'T', 'U', 'V', 'W', 'X', 'Y', 'Z']\n",
    "sdf = dict()\n",
    "v = 65\n",
    "for k in abc: # per a cada lletre de la llista abc...\n",
    "    sdf[k] = v # ... associem el número corresponent mitjançant una variable comptador que a cada passada va augmentan de valor. Tantes lletres hi hagin en la llista abc, tant anirà sumant el comptador i per tant cada número s'anirà associants amb una lletra.\n",
    "    v += 1\n",
    "\n",
    "print(sdf)\n"
   ]
  },
  {
   "cell_type": "code",
   "execution_count": null,
   "metadata": {},
   "outputs": [],
   "source": []
  }
 ],
 "metadata": {
  "kernelspec": {
   "display_name": "Python 3",
   "language": "python",
   "name": "python3"
  },
  "language_info": {
   "codemirror_mode": {
    "name": "ipython",
    "version": 3
   },
   "file_extension": ".py",
   "mimetype": "text/x-python",
   "name": "python",
   "nbconvert_exporter": "python",
   "pygments_lexer": "ipython3",
   "version": "3.12.1"
  }
 },
 "nbformat": 4,
 "nbformat_minor": 2
}
